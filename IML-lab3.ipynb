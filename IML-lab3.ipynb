{
 "cells": [
  {
   "cell_type": "code",
   "execution_count": 17,
   "metadata": {},
   "outputs": [
    {
     "name": "stdout",
     "output_type": "stream",
     "text": [
      "   client_id      datetime  code  type         sum source_id  \\\n",
      "0   96372458  421 06:33:15  6011  2010  -561478.94    256572   \n",
      "1   96372458   68 02:04:11  6011  2010   -426724.0       NaN   \n",
      "2   96372458  433 06:45:32  6011  2010  -112295.79    256566   \n",
      "\n",
      "                        type_description  \\\n",
      "0  Выдача наличных в АТМ Сбербанк России   \n",
      "1  Выдача наличных в АТМ Сбербанк России   \n",
      "2  Выдача наличных в АТМ Сбербанк России   \n",
      "\n",
      "                                    code_description  status  \n",
      "0  Финансовые институты — снятие наличности автом...       0  \n",
      "1  Финансовые институты — снятие наличности автом...       0  \n",
      "2  Финансовые институты — снятие наличности автом...       0  \n"
     ]
    }
   ],
   "source": [
    "import pandas as pd\n",
    "import numpy as np\n",
    "import matplotlib.pyplot as plt\n",
    "\n",
    "operations = pd.read_csv('1 - operations.csv', sep=',', decimal=',')\n",
    "dataset = pd.read_csv('2 - dataset.csv', sep=',', decimal=',')\n",
    "types = pd.read_csv('3 - types.csv', sep=';', decimal=',')\n",
    "codes = pd.read_csv('4 - codes.csv',sep=';')\n",
    "types = pd.merge(operations, types, on = 'type')\n",
    "types_and_codes = pd.merge(types, codes, on = 'code')\n",
    "idsets= pd.merge(types_and_codes, dataset, on='client_id')\n",
    "print idsets[:3]"
   ]
  },
  {
   "cell_type": "code",
   "execution_count": 18,
   "metadata": {},
   "outputs": [
    {
     "name": "stdout",
     "output_type": "stream",
     "text": [
      "         client_id      datetime  code  type         sum source_id  status  \\\n",
      "0         96372458  421 06:33:15  6011  2010  -561478.94    256572       0   \n",
      "1         96372458   68 02:04:11  6011  2010  -426724.00       NaN       0   \n",
      "2         96372458  433 06:45:32  6011  2010  -112295.79    256566       0   \n",
      "3         96372458  314 01:18:44  6011  2010 -1122957.89    256566       0   \n",
      "4         96372458  350 01:09:16  6011  2010 -1100498.73    256566       0   \n",
      "5         96372458  445 07:35:23  6011  2010  -494101.47    256566       0   \n",
      "6         96372458  396 07:48:53  6011  2010  -101066.21    256566       0   \n",
      "7         96372458  430 06:29:50  6011  2010  -224591.58    256566       0   \n",
      "8         96372458   25 06:58:51  6011  2010   -78607.05       NaN       0   \n",
      "9         96372458  421 01:56:12  6011  2010  -314428.21    581606       0   \n",
      "10        96372458  278 04:04:05  6011  2010  -179673.26    581606       0   \n",
      "11        96372458  192 01:14:36  6011  2010  -583938.10       NaN       0   \n",
      "12        96372458  168 02:05:52  6011  2010 -1122957.89       NaN       0   \n",
      "13        96372458   67 07:16:07  6011  2010  -336887.37       NaN       0   \n",
      "14        96372458    7 04:08:20  6011  2010  -426724.00       NaN       0   \n",
      "15        96372458  194 06:30:58  6011  2010  -134754.95       NaN       0   \n",
      "16        96372458  151 06:10:05  6011  2010  -224591.58       NaN       0   \n",
      "17        96372458  381 06:16:54  6011  2010  -112295.79    256566       0   \n",
      "18        96372458  219 06:26:00  6011  2010   -44918.32    798323       0   \n",
      "19        96372458  140 07:36:59  6011  2010  -359346.52       NaN       0   \n",
      "20        96372458  235 01:06:31  6011  2010  -314428.21    256566       0   \n",
      "21        96372458  250 01:06:43  6011  2010   -56147.89    256566       0   \n",
      "22        96372458  304 03:07:36  6011  2010  -774840.94    256566       0   \n",
      "23        96372458  322 06:04:01  6011  2010  -449183.15     58301       0   \n",
      "24        96372458  220 03:43:25  6011  2010  -112295.79    256572       0   \n",
      "25        96372458  249 01:06:18  6011  2010   -22459.16    256566       0   \n",
      "26        96372458   24 09:10:07  6011  2010 -1122957.89       NaN       0   \n",
      "27        96372458   77 07:09:36  6011  2010 -1122957.89       NaN       0   \n",
      "28        96372458  409 06:29:49  6011  2010  -404264.84    256566       0   \n",
      "29        96372458  392 02:38:02  6011  2010  -786070.52    256566       0   \n",
      "...            ...           ...   ...   ...         ...       ...     ...   \n",
      "4101693   15166647  423 00:00:00  5964  6200     7360.54  00000001       0   \n",
      "4101694   15166647  370 00:00:00  5964  6200     5089.25  00000001       0   \n",
      "4101695   96325605  349 00:00:00  5964  6200    15244.15  00000001       0   \n",
      "4101696    8739208  342 00:00:00  5964  6200      572.03  00000001       0   \n",
      "4101697   50677956  274 00:00:00  5964  6200     7137.97  00000001       0   \n",
      "4101698   13003554  141 00:00:00  5964  6200    15986.43       NaN       0   \n",
      "4101699   26392084  417 00:00:00  5964  6200     6126.63  00000001       0   \n",
      "4101700   26392084  417 00:00:00  5964  6200     6126.63  00000001       0   \n",
      "4101701      53395  400 00:00:00  5964  6200     1114.87  00000001       0   \n",
      "4101702   27322560  322 00:00:00  5964  6200      522.18  00000001       0   \n",
      "4101703   27322560   68 00:00:00  5964  6200     3689.82       NaN       0   \n",
      "4101704   33122190  337 00:00:00  5964  6200     3812.44  00000001       1   \n",
      "4101705   18562357   64 00:00:00  5964  6200     5950.78       NaN       0   \n",
      "4101706   65393099  369 00:00:00  5964  6200      856.82  00000001       0   \n",
      "4101707   32970687  392 00:00:00  5964  6200     4605.25  00000001       0   \n",
      "4101708   32970687  402 00:00:00  5964  6200     2600.55  00000001       0   \n",
      "4101709   32970687  401 00:00:00  5964  6200     5867.68  00000001       0   \n",
      "4101710   32970687  393 00:00:00  5964  6200     1320.15  00000001       0   \n",
      "4101711   25617927  305 00:00:00  5964  6200     8634.65  00000001       0   \n",
      "4101712   12976812  318 00:00:00  5964  6200    16124.55  00000001       1   \n",
      "4101713   35499455  343 00:00:00  5964  6100    14732.08  00000001       0   \n",
      "4101714   75169373   90 00:00:00  5964  6100    82670.36       NaN       1   \n",
      "4101715   77436906  380 00:00:00  5964  6100     5497.78  00000001       1   \n",
      "4101716   98373939  239 00:00:00  5964  6100     8428.02  00000001       0   \n",
      "4101717   90493352  416 00:00:00  5964  6100     8610.62  00000001       1   \n",
      "4101718   82906365  420 00:00:00  5964  6100    10161.87  00000001       0   \n",
      "4101719   87822979  375 00:00:00  5964  6100    11671.80  00000001       0   \n",
      "4101720   77388478  391 00:00:00  5964  6100      192.70  00000001       0   \n",
      "4101721   11321790  385 00:00:00  5964  6100    10581.41  00000001       1   \n",
      "4101722   52358368   73 00:00:00  5964  1210  -388511.99       NaN       0   \n",
      "\n",
      "                              type_description  \\\n",
      "0        Выдача наличных в АТМ Сбербанк России   \n",
      "1        Выдача наличных в АТМ Сбербанк России   \n",
      "2        Выдача наличных в АТМ Сбербанк России   \n",
      "3        Выдача наличных в АТМ Сбербанк России   \n",
      "4        Выдача наличных в АТМ Сбербанк России   \n",
      "5        Выдача наличных в АТМ Сбербанк России   \n",
      "6        Выдача наличных в АТМ Сбербанк России   \n",
      "7        Выдача наличных в АТМ Сбербанк России   \n",
      "8        Выдача наличных в АТМ Сбербанк России   \n",
      "9        Выдача наличных в АТМ Сбербанк России   \n",
      "10       Выдача наличных в АТМ Сбербанк России   \n",
      "11       Выдача наличных в АТМ Сбербанк России   \n",
      "12       Выдача наличных в АТМ Сбербанк России   \n",
      "13       Выдача наличных в АТМ Сбербанк России   \n",
      "14       Выдача наличных в АТМ Сбербанк России   \n",
      "15       Выдача наличных в АТМ Сбербанк России   \n",
      "16       Выдача наличных в АТМ Сбербанк России   \n",
      "17       Выдача наличных в АТМ Сбербанк России   \n",
      "18       Выдача наличных в АТМ Сбербанк России   \n",
      "19       Выдача наличных в АТМ Сбербанк России   \n",
      "20       Выдача наличных в АТМ Сбербанк России   \n",
      "21       Выдача наличных в АТМ Сбербанк России   \n",
      "22       Выдача наличных в АТМ Сбербанк России   \n",
      "23       Выдача наличных в АТМ Сбербанк России   \n",
      "24       Выдача наличных в АТМ Сбербанк России   \n",
      "25       Выдача наличных в АТМ Сбербанк России   \n",
      "26       Выдача наличных в АТМ Сбербанк России   \n",
      "27       Выдача наличных в АТМ Сбербанк России   \n",
      "28       Выдача наличных в АТМ Сбербанк России   \n",
      "29       Выдача наличных в АТМ Сбербанк России   \n",
      "...                                        ...   \n",
      "4101693          Возврат  покупки. Зарубеж. ТУ   \n",
      "4101694          Возврат  покупки. Зарубеж. ТУ   \n",
      "4101695          Возврат  покупки. Зарубеж. ТУ   \n",
      "4101696          Возврат  покупки. Зарубеж. ТУ   \n",
      "4101697          Возврат  покупки. Зарубеж. ТУ   \n",
      "4101698          Возврат  покупки. Зарубеж. ТУ   \n",
      "4101699          Возврат  покупки. Зарубеж. ТУ   \n",
      "4101700          Возврат  покупки. Зарубеж. ТУ   \n",
      "4101701          Возврат  покупки. Зарубеж. ТУ   \n",
      "4101702          Возврат  покупки. Зарубеж. ТУ   \n",
      "4101703          Возврат  покупки. Зарубеж. ТУ   \n",
      "4101704          Возврат  покупки. Зарубеж. ТУ   \n",
      "4101705          Возврат  покупки. Зарубеж. ТУ   \n",
      "4101706          Возврат  покупки. Зарубеж. ТУ   \n",
      "4101707          Возврат  покупки. Зарубеж. ТУ   \n",
      "4101708          Возврат  покупки. Зарубеж. ТУ   \n",
      "4101709          Возврат  покупки. Зарубеж. ТУ   \n",
      "4101710          Возврат  покупки. Зарубеж. ТУ   \n",
      "4101711          Возврат  покупки. Зарубеж. ТУ   \n",
      "4101712          Возврат  покупки. Зарубеж. ТУ   \n",
      "4101713            Возврат  покупки. ТУ Россия   \n",
      "4101714            Возврат  покупки. ТУ Россия   \n",
      "4101715            Возврат  покупки. ТУ Россия   \n",
      "4101716            Возврат  покупки. ТУ Россия   \n",
      "4101717            Возврат  покупки. ТУ Россия   \n",
      "4101718            Возврат  покупки. ТУ Россия   \n",
      "4101719            Возврат  покупки. ТУ Россия   \n",
      "4101720            Возврат  покупки. ТУ Россия   \n",
      "4101721            Возврат  покупки. ТУ Россия   \n",
      "4101722              Покупка. POS  Зарубеж. ТУ   \n",
      "\n",
      "                                          code_description  \n",
      "0        Финансовые институты — снятие наличности автом...  \n",
      "1        Финансовые институты — снятие наличности автом...  \n",
      "2        Финансовые институты — снятие наличности автом...  \n",
      "3        Финансовые институты — снятие наличности автом...  \n",
      "4        Финансовые институты — снятие наличности автом...  \n",
      "5        Финансовые институты — снятие наличности автом...  \n",
      "6        Финансовые институты — снятие наличности автом...  \n",
      "7        Финансовые институты — снятие наличности автом...  \n",
      "8        Финансовые институты — снятие наличности автом...  \n",
      "9        Финансовые институты — снятие наличности автом...  \n",
      "10       Финансовые институты — снятие наличности автом...  \n",
      "11       Финансовые институты — снятие наличности автом...  \n",
      "12       Финансовые институты — снятие наличности автом...  \n",
      "13       Финансовые институты — снятие наличности автом...  \n",
      "14       Финансовые институты — снятие наличности автом...  \n",
      "15       Финансовые институты — снятие наличности автом...  \n",
      "16       Финансовые институты — снятие наличности автом...  \n",
      "17       Финансовые институты — снятие наличности автом...  \n",
      "18       Финансовые институты — снятие наличности автом...  \n",
      "19       Финансовые институты — снятие наличности автом...  \n",
      "20       Финансовые институты — снятие наличности автом...  \n",
      "21       Финансовые институты — снятие наличности автом...  \n",
      "22       Финансовые институты — снятие наличности автом...  \n",
      "23       Финансовые институты — снятие наличности автом...  \n",
      "24       Финансовые институты — снятие наличности автом...  \n",
      "25       Финансовые институты — снятие наличности автом...  \n",
      "26       Финансовые институты — снятие наличности автом...  \n",
      "27       Финансовые институты — снятие наличности автом...  \n",
      "28       Финансовые институты — снятие наличности автом...  \n",
      "29       Финансовые институты — снятие наличности автом...  \n",
      "...                                                    ...  \n",
      "4101693          Прямой маркетинг — торговля через каталог  \n",
      "4101694          Прямой маркетинг — торговля через каталог  \n",
      "4101695          Прямой маркетинг — торговля через каталог  \n",
      "4101696          Прямой маркетинг — торговля через каталог  \n",
      "4101697          Прямой маркетинг — торговля через каталог  \n",
      "4101698          Прямой маркетинг — торговля через каталог  \n",
      "4101699          Прямой маркетинг — торговля через каталог  \n",
      "4101700          Прямой маркетинг — торговля через каталог  \n",
      "4101701          Прямой маркетинг — торговля через каталог  \n",
      "4101702          Прямой маркетинг — торговля через каталог  \n",
      "4101703          Прямой маркетинг — торговля через каталог  \n",
      "4101704          Прямой маркетинг — торговля через каталог  \n",
      "4101705          Прямой маркетинг — торговля через каталог  \n",
      "4101706          Прямой маркетинг — торговля через каталог  \n",
      "4101707          Прямой маркетинг — торговля через каталог  \n",
      "4101708          Прямой маркетинг — торговля через каталог  \n",
      "4101709          Прямой маркетинг — торговля через каталог  \n",
      "4101710          Прямой маркетинг — торговля через каталог  \n",
      "4101711          Прямой маркетинг — торговля через каталог  \n",
      "4101712          Прямой маркетинг — торговля через каталог  \n",
      "4101713          Прямой маркетинг — торговля через каталог  \n",
      "4101714          Прямой маркетинг — торговля через каталог  \n",
      "4101715          Прямой маркетинг — торговля через каталог  \n",
      "4101716          Прямой маркетинг — торговля через каталог  \n",
      "4101717          Прямой маркетинг — торговля через каталог  \n",
      "4101718          Прямой маркетинг — торговля через каталог  \n",
      "4101719          Прямой маркетинг — торговля через каталог  \n",
      "4101720          Прямой маркетинг — торговля через каталог  \n",
      "4101721          Прямой маркетинг — торговля через каталог  \n",
      "4101722          Прямой маркетинг — торговля через каталог  \n",
      "\n",
      "[4101723 rows x 9 columns]\n"
     ]
    }
   ],
   "source": [
    "data1 = pd.read_csv('1 - operations.csv', sep=',', decimal='.')\n",
    "data2 = pd.read_csv('2 - dataset.csv', sep=',', decimal='.')\n",
    "data3 = pd.read_csv('3 - types.csv', sep=';')\n",
    "data4 = pd.read_csv('4 - codes.csv', sep=';')\n",
    "\n",
    "dm1 = pd.merge(data1, data2, on='client_id')\n",
    "dm2 = pd.merge(dm1, data3, on='type')\n",
    "dm3 = pd.merge(dm2, data4, on='code')\n",
    "\n",
    "print(dm3)"
   ]
  },
  {
   "cell_type": "code",
   "execution_count": 19,
   "metadata": {},
   "outputs": [
    {
     "name": "stderr",
     "output_type": "stream",
     "text": [
      "/anaconda2/lib/python2.7/site-packages/ipykernel_launcher.py:1: UserWarning: Boolean Series key will be reindexed to match DataFrame index.\n",
      "  \"\"\"Entry point for launching an IPython kernel.\n"
     ]
    },
    {
     "data": {
      "image/png": "[encoded data removed]",
      "text/plain": [
       "<matplotlib.figure.Figure at 0x10f854950>"
      ]
     },
     "metadata": {},
     "output_type": "display_data"
    }
   ],
   "source": [
    "dm3[dm3['client_id']>31984797][dm3['client_id']<92659530]['client_id'].hist(bins=25,color = 'green')\n",
    "plt.show()"
   ]
  },
  {
   "cell_type": "code",
   "execution_count": 20,
   "metadata": {},
   "outputs": [
    {
     "ename": "SyntaxError",
     "evalue": "invalid syntax (<ipython-input-20-1f996e2c73aa>, line 3)",
     "output_type": "error",
     "traceback": [
      "\u001b[0;36m  File \u001b[0;32m\"<ipython-input-20-1f996e2c73aa>\"\u001b[0;36m, line \u001b[0;32m3\u001b[0m\n\u001b[0;31m    plt.show()\u001b[0m\n\u001b[0m      ^\u001b[0m\n\u001b[0;31mSyntaxError\u001b[0m\u001b[0;31m:\u001b[0m invalid syntax\n"
     ]
    }
   ],
   "source": [
    "import matplotlib.pyplot as plt\n",
    "dm3[dm3['sum'].hist(bins=50,color = 'red')\n",
    "plt.show()"
   ]
  },
  {
   "cell_type": "code",
   "execution_count": 21,
   "metadata": {},
   "outputs": [
    {
     "ename": "SyntaxError",
     "evalue": "invalid syntax (<ipython-input-21-1795e6911fda>, line 3)",
     "output_type": "error",
     "traceback": [
      "\u001b[0;36m  File \u001b[0;32m\"<ipython-input-21-1795e6911fda>\"\u001b[0;36m, line \u001b[0;32m3\u001b[0m\n\u001b[0;31m    plt.show()\u001b[0m\n\u001b[0m      ^\u001b[0m\n\u001b[0;31mSyntaxError\u001b[0m\u001b[0;31m:\u001b[0m invalid syntax\n"
     ]
    }
   ],
   "source": [
    "import matplotlib.pyplot as plt\n",
    "dm3[dm3['code'].hist(bins=50,color = 'blue')\n",
    "plt.show()"
   ]
  },
  {
   "cell_type": "code",
   "execution_count": 22,
   "metadata": {},
   "outputs": [
    {
     "ename": "SyntaxError",
     "evalue": "invalid syntax (<ipython-input-22-d0d3914af529>, line 3)",
     "output_type": "error",
     "traceback": [
      "\u001b[0;36m  File \u001b[0;32m\"<ipython-input-22-d0d3914af529>\"\u001b[0;36m, line \u001b[0;32m3\u001b[0m\n\u001b[0;31m    plt.show()\u001b[0m\n\u001b[0m      ^\u001b[0m\n\u001b[0;31mSyntaxError\u001b[0m\u001b[0;31m:\u001b[0m invalid syntax\n"
     ]
    }
   ],
   "source": [
    "import matplotlib.pyplot as plt\n",
    "dm3[dm3['type'].hist(bins=50,color = 'green')\n",
    "plt.show()"
   ]
  },
  {
   "cell_type": "code",
   "execution_count": 23,
   "metadata": {},
   "outputs": [
    {
     "ename": "SyntaxError",
     "evalue": "invalid syntax (<ipython-input-23-fbea4b11465d>, line 3)",
     "output_type": "error",
     "traceback": [
      "\u001b[0;36m  File \u001b[0;32m\"<ipython-input-23-fbea4b11465d>\"\u001b[0;36m, line \u001b[0;32m3\u001b[0m\n\u001b[0;31m    plt.show()\u001b[0m\n\u001b[0m      ^\u001b[0m\n\u001b[0;31mSyntaxError\u001b[0m\u001b[0;31m:\u001b[0m invalid syntax\n"
     ]
    }
   ],
   "source": [
    "import matplotlib.pyplot as plt\n",
    "dm3[dm3['status'].hist(bins=50,color = 'yellow')\n",
    "plt.show()"
   ]
  }
 ],
 "metadata": {
  "kernelspec": {
   "display_name": "Python 2",
   "language": "python",
   "name": "python2"
  },
  "language_info": {
   "codemirror_mode": {
    "name": "ipython",
    "version": 2
   },
   "file_extension": ".py",
   "mimetype": "text/x-python",
   "name": "python",
   "nbconvert_exporter": "python",
   "pygments_lexer": "ipython2",
   "version": "2.7.14"
  }
 },
 "nbformat": 4,
 "nbformat_minor": 2
}
